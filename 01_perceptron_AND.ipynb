{
  "cells": [
    {
      "cell_type": "markdown",
      "metadata": {
        "id": "_KObWy0d8K3m"
      },
      "source": [
        "# Introducción\n",
        "## Perceptrón AND\n",
        "\n",
        "El perceptrón es un algoritmo que funge como un clasificador binario. Es decir una función que mapea una entrada y asigna una posible etiqueta.\n",
        "\n",
        "La fórmula del perceptrón simple con dos entradas es:\n",
        "\n",
        "$$f(x_1,x_2,\\dots,x_m) = \\begin{cases}\n",
        "0 & \\text{if } \\sum w_i \\cdot x_i + b < 0 \\\\\n",
        "1 & \\text{if } \\sum w_i \\cdot x_i + b \\geq 0\n",
        "\\end{cases}$$\n",
        "\n",
        "En este ejercicio debes determinar por prueba y error los pesos y bias que conviertan al perceptron en una funcion AND. Recuerda que las partes que debes completar están marcadas con 'TODO'\n",
        "\n",
        "[![Open In Colab](https://colab.research.google.com/assets/colab-badge.svg)](https://colab.research.google.com/github/irvingvasquez/cv2course_intro_nn/blob/master/01_perceptron_AND.ipynb)\n",
        "\n",
        "@juan1rving"
      ]
    },
    {
      "cell_type": "code",
      "execution_count": 4,
      "metadata": {
        "id": "nO6odnYr8K32"
      },
      "outputs": [],
      "source": [
        "#importamos paquetes\n",
        "import pandas as pd"
      ]
    },
    {
      "cell_type": "code",
      "execution_count": 6,
      "metadata": {
        "id": "4UOjT8k38K35"
      },
      "outputs": [],
      "source": [
        "# TODO: Establecer weight1, weight2, y bias\n",
        "\n",
        "weight1 = 1\n",
        "weight2 = 1\n",
        "bias = -1.5"
      ]
    },
    {
      "cell_type": "code",
      "execution_count": 8,
      "metadata": {
        "colab": {
          "base_uri": "https://localhost:8080/"
        },
        "id": "1Ci_hiz68K36",
        "outputId": "0a205839-3fb7-4ae3-9ff7-a31d149c6c79"
      },
      "outputs": [
        {
          "output_type": "stream",
          "name": "stdout",
          "text": [
            "Bien!  Acertaste todas.\n",
            "\n",
            " Input 1    Input 2    Linear Combination    Activation Output   Is Correct\n",
            "       0          0                  -1.5                    0          Yes\n",
            "       0          1                  -0.5                    0          Yes\n",
            "       1          0                  -0.5                    0          Yes\n",
            "       1          1                   0.5                    1          Yes\n"
          ]
        }
      ],
      "source": [
        "# ESTO DEBE QUEDAR IGUAL\n",
        "# Inputs, outputs\n",
        "test_inputs = [(0, 0), (0, 1), (1, 0), (1, 1)]\n",
        "correct_outputs = [False, False, False, True]\n",
        "outputs = []\n",
        "\n",
        "# Generar y revisar\n",
        "for test_input, correct_output in zip(test_inputs, correct_outputs):\n",
        "    linear_combination = weight1 * test_input[0] + weight2 * test_input[1] + bias\n",
        "    output = int(linear_combination >= 0)\n",
        "    is_correct_string = 'Yes' if output == correct_output else 'No'\n",
        "    outputs.append([test_input[0], test_input[1], linear_combination, output, is_correct_string])\n",
        "\n",
        "# Escribir resultados\n",
        "num_wrong = len([output[4] for output in outputs if output[4] == 'No'])\n",
        "output_frame = pd.DataFrame(outputs, columns=['Input 1', '  Input 2', '  Linear Combination', '  Activation Output', '  Is Correct'])\n",
        "if not num_wrong:\n",
        "    print('Bien!  Acertaste todas.\\n')\n",
        "else:\n",
        "    print('Obtuvieste {} mal.  Debes poner otros pesos!\\n'.format(num_wrong))\n",
        "print(output_frame.to_string(index=False))"
      ]
    },
    {
      "cell_type": "markdown",
      "metadata": {
        "id": "qHfwcECO8K38"
      },
      "source": [
        "Referencias:\n",
        "\n",
        "- Goodfellow, I., Bengio, Y., & Courville, A. (2016). Deep learning. MIT press.\n",
        "- Curso deep learning de UDACITY\n",
        "  "
      ]
    },
    {
      "cell_type": "markdown",
      "metadata": {
        "id": "higmEjHD8K39"
      },
      "source": []
    }
  ],
  "metadata": {
    "kernelspec": {
      "display_name": "nni",
      "language": "python",
      "name": "python3"
    },
    "language_info": {
      "codemirror_mode": {
        "name": "ipython",
        "version": 3
      },
      "file_extension": ".py",
      "mimetype": "text/x-python",
      "name": "python",
      "nbconvert_exporter": "python",
      "pygments_lexer": "ipython3",
      "version": "3.10.9"
    },
    "vscode": {
      "interpreter": {
        "hash": "cbad788490f55b163920bee5e9d5e0cba00db5905dc94f4bdbe0011e55bf465f"
      }
    },
    "colab": {
      "provenance": []
    }
  },
  "nbformat": 4,
  "nbformat_minor": 0
}