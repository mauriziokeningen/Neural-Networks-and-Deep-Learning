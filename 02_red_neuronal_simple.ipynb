{
  "cells": [
    {
      "cell_type": "markdown",
      "metadata": {
        "id": "0sU8n5qc-yGL"
      },
      "source": [
        "# Red Neuronal Simple\n",
        "\n",
        "En este notebook programaremos una red neuronal simple (perceptron) utilizando numpy. El objetivo es que comprendamos el funcionamiento del perceptrón y que practiquemos la programación en Python. En la siguiente figura se encuentra una representación del perceptrón.\n",
        "\n",
        "\n",
        "<img src=\"https://github.com/irvingvasquez/cv2course_intro_nn/blob/master/files/simple_nn_notebook.png?raw=1\">\n",
        "\n",
        "[![Open In Colab](https://colab.research.google.com/assets/colab-badge.svg)](https://colab.research.google.com/github/irvingvasquez/cv2course_intro_nn/blob/master/02_red_neuronal_simple.ipynb)\n",
        "\n",
        "@juan1rving\n"
      ]
    },
    {
      "cell_type": "code",
      "execution_count": 3,
      "metadata": {
        "id": "niowcu0s-yGU"
      },
      "outputs": [],
      "source": [
        "# Cargamos paquetes\n",
        "import numpy as np"
      ]
    },
    {
      "cell_type": "markdown",
      "metadata": {
        "id": "UF0shr90-yGY"
      },
      "source": [
        "## Calcular producto punto\n",
        "\n",
        "El primer paso es calcular el logit, *h*, a partir del producto punto. La fórmula explícita es la siguiente:\n",
        "\n",
        "$$ h = W X +b $$"
      ]
    },
    {
      "cell_type": "code",
      "execution_count": 2,
      "metadata": {
        "id": "H_Zdq2PJ-yGa"
      },
      "outputs": [],
      "source": [
        "# TODO: Implementar la función H\n",
        "\n",
        "def function_h(X, W, b):\n",
        "    suma = 0\n",
        "    for i in range(len(X)):\n",
        "        suma += X[i] * W[i]\n",
        "    suma += b\n",
        "    return suma"
      ]
    },
    {
      "cell_type": "markdown",
      "metadata": {
        "id": "JP1YTO1g-yGb"
      },
      "source": [
        "## Función de activación\n",
        "\n",
        "Para este ejemplo utilizaremos la función sigmoide como función de activación.\n",
        "\n",
        "$$ f(x) =  \\frac{\\mathrm{1} }{\\mathrm{1} + e^{-x} }  $$"
      ]
    },
    {
      "cell_type": "code",
      "execution_count": 6,
      "metadata": {
        "id": "-027hBZj-yGc"
      },
      "outputs": [],
      "source": [
        "# TODO: Implementar la función de activación.\n",
        "# En este ejemplo utilizaremos la función sigmoide.\n",
        "\n",
        "def sigmoid(x):\n",
        "    sg = 1 / (1 + np.exp(-x))\n",
        "    return sg"
      ]
    },
    {
      "cell_type": "markdown",
      "metadata": {
        "id": "dl-VsLQw-yGd"
      },
      "source": [
        "## Probar la red\n",
        "\n",
        "Ahora definamos unos pesos y veamos el resultado de una pasada frontal (fordward pass)."
      ]
    },
    {
      "cell_type": "code",
      "execution_count": 7,
      "metadata": {
        "id": "_f5kFAnn-yGe",
        "outputId": "252aeebc-9631-4a44-a638-c7227486eb84",
        "colab": {
          "base_uri": "https://localhost:8080/"
        }
      },
      "outputs": [
        {
          "output_type": "stream",
          "name": "stdout",
          "text": [
            "Output:\n",
            "0.4329070950345457\n"
          ]
        }
      ],
      "source": [
        "# Definamos unos pesos y sesgo\n",
        "inputs = np.array([0.7, -0.3])\n",
        "weights = np.array([0.1, 0.8])\n",
        "bias = -0.1\n",
        "\n",
        "# Pasada frontal\n",
        "h = function_h(inputs,weights,bias)\n",
        "output = sigmoid(h)\n",
        "\n",
        "print('Output:')\n",
        "print(output)\n"
      ]
    },
    {
      "cell_type": "markdown",
      "metadata": {
        "id": "HmvZc9jV-yGh"
      },
      "source": [
        "## Pruebas extra\n",
        "\n",
        "- Define una función de activación de tipo escalón, \"heaviside\".  \n",
        "- ¿Cuáles son los pesos que definen una función OR?"
      ]
    },
    {
      "cell_type": "code",
      "execution_count": null,
      "metadata": {
        "id": "6NjQDIai-yGi"
      },
      "outputs": [],
      "source": [
        "# TODO: Completar el código\n",
        "def escalon(x):\n",
        "    if x < 0:\n",
        "        return 0\n",
        "    elif x >= 0:\n",
        "        return 1"
      ]
    },
    {
      "cell_type": "code",
      "execution_count": 9,
      "metadata": {
        "id": "0CMpHieN-yGi",
        "outputId": "0104589f-ce89-464d-91f9-b1d47891002a",
        "colab": {
          "base_uri": "https://localhost:8080/"
        }
      },
      "outputs": [
        {
          "output_type": "stream",
          "name": "stdout",
          "text": [
            "Inputs:\n",
            "[[0 0]\n",
            " [0 1]\n",
            " [1 0]\n",
            " [1 1]]\n",
            "\n",
            "Linear Combination:\n",
            "[-0.5  0.5  0.5  1.5]\n",
            "\n",
            "Activation Output:\n",
            "[0 1 1 1]\n",
            "\n",
            "Correct Outputs:\n",
            "[0 1 1 1]\n",
            "\n",
            "All results match the OR function.\n"
          ]
        }
      ],
      "source": [
        "# TODO: Realizar el pase frontal y muesta los resultados que concuerdan con la función OR\n",
        "\n",
        "# Define the weights and bias for the OR function\n",
        "weights = np.array([1, 1])\n",
        "bias = -0.5\n",
        "\n",
        "# Inputs for the OR function\n",
        "test_inputs = np.array([(0, 0), (0, 1), (1, 0), (1, 1)])\n",
        "\n",
        "# Calculate the linear combination (dot product) and apply the step function\n",
        "linear_combination = np.dot(test_inputs, weights) + bias\n",
        "output = (linear_combination >= 0).astype(int)\n",
        "\n",
        "# Define the correct outputs for the OR function\n",
        "correct_outputs = np.array([0, 1, 1, 1])\n",
        "\n",
        "# Check if the outputs match the correct outputs\n",
        "is_correct = np.array_equal(output, correct_outputs)\n",
        "\n",
        "# Print the results\n",
        "print(\"Inputs:\")\n",
        "print(test_inputs)\n",
        "print(\"\\nLinear Combination:\")\n",
        "print(linear_combination)\n",
        "print(\"\\nActivation Output:\")\n",
        "print(output)\n",
        "print(\"\\nCorrect Outputs:\")\n",
        "print(correct_outputs)\n",
        "\n",
        "if is_correct:\n",
        "    print(\"\\nAll results match the OR function.\")\n",
        "else:\n",
        "    print(\"\\nSome results do not match the OR function.\")"
      ]
    },
    {
      "cell_type": "code",
      "execution_count": null,
      "metadata": {
        "id": "K4s3Inqt-yGj"
      },
      "outputs": [],
      "source": []
    }
  ],
  "metadata": {
    "kernelspec": {
      "display_name": "nni",
      "language": "python",
      "name": "python3"
    },
    "language_info": {
      "codemirror_mode": {
        "name": "ipython",
        "version": 3
      },
      "file_extension": ".py",
      "mimetype": "text/x-python",
      "name": "python",
      "nbconvert_exporter": "python",
      "pygments_lexer": "ipython3",
      "version": "3.10.9"
    },
    "vscode": {
      "interpreter": {
        "hash": "cbad788490f55b163920bee5e9d5e0cba00db5905dc94f4bdbe0011e55bf465f"
      }
    },
    "colab": {
      "provenance": []
    }
  },
  "nbformat": 4,
  "nbformat_minor": 0
}